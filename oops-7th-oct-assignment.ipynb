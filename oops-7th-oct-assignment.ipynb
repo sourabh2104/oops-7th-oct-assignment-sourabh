{
 "cells": [
  {
   "cell_type": "markdown",
   "id": "bbb4fe99-9962-4f03-837b-9b7760eb4c23",
   "metadata": {},
   "source": [
    "Oops Assignment!!"
   ]
  },
  {
   "cell_type": "code",
   "execution_count": 2,
   "id": "558f451d-fe2d-48f3-b2c7-2a3625089b8b",
   "metadata": {},
   "outputs": [
    {
     "name": "stdout",
     "output_type": "stream",
     "text": [
      "Account Balance: 500\n"
     ]
    }
   ],
   "source": [
    "#  Problem 1: Bank Account Create a class representing a bank account with attributes like account number, account holder name, and balance. Implement methods to deposit and withdraw money from the account.\n",
    "\n",
    "\n",
    "class BankAccount:\n",
    "    def __init__(self, account_number, account_holder, balance=0):\n",
    "        self.account_number = account_number\n",
    "        self.account_holder = account_holder\n",
    "        self.balance = balance\n",
    "\n",
    "    def deposit(self, amount):\n",
    "        \"\"\"Deposit money into the account.\"\"\"\n",
    "        self.balance += amount\n",
    "\n",
    "    def withdraw(self, amount):\n",
    "        \"\"\"Withdraw money from the account if sufficient balance is available.\"\"\"\n",
    "        if amount <= self.balance:\n",
    "            self.balance -= amount\n",
    "        else:\n",
    "            print(\"Insufficient balance!\")\n",
    "\n",
    "# Example \n",
    "account = BankAccount(\"123456\", \"Alice\")\n",
    "account.deposit(1000)\n",
    "account.withdraw(500)\n",
    "print(\"Account Balance:\", account.balance)\n"
   ]
  },
  {
   "cell_type": "markdown",
   "id": "7c1f79bb-f8b0-4a9e-9219-9207bd65bf03",
   "metadata": {},
   "source": [
    "Explanation:- \n",
    "\n",
    "BankAccount class with attributes account_number, account_holder, and balance. The class has methods deposit and withdraw to add and subtract money from the account balance. An instance of BankAccount named account is created with account number \"123456\" and holder's name \"Alice\". 1000 units are deposited, and then 500 units are withdrawn. The final balance, 500 units, is printed."
   ]
  },
  {
   "cell_type": "code",
   "execution_count": 3,
   "id": "a2a746dd-e14e-4ff0-acb0-17bb10259b99",
   "metadata": {},
   "outputs": [
    {
     "name": "stdout",
     "output_type": "stream",
     "text": [
      "Employee ID: 1\n",
      "Name: Bob\n",
      "Salary: $50000\n",
      "Yearly Bonus: $5000.0\n"
     ]
    }
   ],
   "source": [
    "# Problem 2: Employee Management Create a class representing an employee with attributes like employee ID, name, and salary. Implement methods to calculate the yearly bonus and display employee details.\n",
    "\n",
    "\n",
    "class Employee:\n",
    "    def __init__(self, employee_id, name, salary):\n",
    "        self.employee_id = employee_id\n",
    "        self.name = name\n",
    "        self.salary = salary\n",
    "\n",
    "    def calculate_bonus(self):\n",
    "        \"\"\"Calculate yearly bonus (assuming 10% of salary).\"\"\"\n",
    "        return 0.1 * self.salary\n",
    "\n",
    "    def display_details(self):\n",
    "        \"\"\"Display employee details.\"\"\"\n",
    "        print(f\"Employee ID: {self.employee_id}\")\n",
    "        print(f\"Name: {self.name}\")\n",
    "        print(f\"Salary: ${self.salary}\")\n",
    "        print(f\"Yearly Bonus: ${self.calculate_bonus()}\")\n",
    "\n",
    "# Example usage\n",
    "employee = Employee(1, \"Bob\", 50000)\n",
    "employee.display_details()\n"
   ]
  },
  {
   "cell_type": "markdown",
   "id": "ee3d57c9-b305-4718-971e-36a6a88f6318",
   "metadata": {},
   "source": [
    "Explanation:-\n",
    "\n",
    "a class called Employee. This class has three attributes: employee_id, name, and salary. The class has three methods:\n",
    "\n",
    "Constructor (__init__ method):\n",
    "\n",
    "The __init__ method initializes a new Employee object with the provided employee_id, name, and salary parameters.\n",
    "calculate_bonus method:\n",
    "\n",
    "This method calculates the yearly bonus for the employee. The bonus is assumed to be 10% of the employee's salary.\n",
    "display_details method:\n",
    "\n",
    "This method prints the employee details, including employee_id, name, salary, and the calculated yearly bonus.\n",
    "The example usage creates an Employee object with ID 1, name \"Bob\", and a salary of $50000. It then calls the display_details method to print the employee's information, including the calculated yearly bonus (which is 10% of the salary, in this case, $5000)."
   ]
  },
  {
   "cell_type": "code",
   "execution_count": 4,
   "id": "22f98dd6-e346-412f-997e-8e5380d4d2c2",
   "metadata": {},
   "outputs": [
    {
     "name": "stdout",
     "output_type": "stream",
     "text": [
      "Available Vehicles: ['Car', 'Motorcycle', 'Bicycle']\n",
      "Rented a Car\n",
      "Available Vehicles: ['Motorcycle', 'Bicycle']\n",
      "Returned Car\n",
      "Available Vehicles: ['Motorcycle', 'Bicycle', 'Car']\n"
     ]
    }
   ],
   "source": [
    "# Problem 3: Vehicle Rental Create a class representing a vehicle rental system. Implement methods to rent a vehicle, return a vehicle, and display available vehicles.\n",
    "\n",
    "class VehicleRentalSystem:\n",
    "    def __init__(self):\n",
    "        self.available_vehicles = [\"Car\", \"Motorcycle\", \"Bicycle\"]\n",
    "\n",
    "    def rent_vehicle(self, vehicle_type):\n",
    "        \"\"\"Rent a vehicle if available.\"\"\"\n",
    "        if vehicle_type in self.available_vehicles:\n",
    "            self.available_vehicles.remove(vehicle_type)\n",
    "            print(f\"Rented a {vehicle_type}\")\n",
    "        else:\n",
    "            print(f\"Sorry, {vehicle_type} not available for rent.\")\n",
    "\n",
    "    def return_vehicle(self, vehicle_type):\n",
    "        \"\"\"Return a rented vehicle.\"\"\"\n",
    "        self.available_vehicles.append(vehicle_type)\n",
    "        print(f\"Returned {vehicle_type}\")\n",
    "\n",
    "    def display_available_vehicles(self):\n",
    "        \"\"\"Display available vehicles.\"\"\"\n",
    "        print(\"Available Vehicles:\", self.available_vehicles)\n",
    "\n",
    "# Example usage\n",
    "rental_system = VehicleRentalSystem()\n",
    "rental_system.display_available_vehicles()\n",
    "rental_system.rent_vehicle(\"Car\")\n",
    "rental_system.display_available_vehicles()\n",
    "rental_system.return_vehicle(\"Car\")\n",
    "rental_system.display_available_vehicles()\n"
   ]
  },
  {
   "cell_type": "markdown",
   "id": "21be39d0-5c83-4ab9-8187-8bf75010736b",
   "metadata": {},
   "source": [
    "Explanation:-\n",
    "\n",
    "a class called VehicleRentalSystem. This class represents a simple vehicle rental system and contains methods to rent and return vehicles, as well as display the available vehicles.\n",
    "\n",
    "Constructor (__init__ method):\n",
    "\n",
    "The __init__ method initializes a new instance of the VehicleRentalSystem class. It creates an attribute available_vehicles which is a list containing \"Car\", \"Motorcycle\", and \"Bicycle\", representing the types of vehicles available for rent.\n",
    "rent_vehicle method:\n",
    "\n",
    "The rent_vehicle method takes a vehicle_type as a parameter and attempts to rent the specified type of vehicle. If the requested vehicle type is in the available_vehicles list, it removes the vehicle type from the list and prints a message indicating that the vehicle has been rented. If the requested vehicle type is not available, it prints a message indicating that the vehicle is not available for rent.\n",
    "return_vehicle method:\n",
    "\n",
    "The return_vehicle method takes a vehicle_type as a parameter and allows customers to return a rented vehicle It adds the returned vehicle type back to the available_vehicles list and prints a message indicating that the vehicle has been returned.\n",
    "display_available_vehicles method:\n",
    "\n",
    "The display_available_vehicles method simply prints the list of available vehicles at any given time.\n",
    "Example Usage:\n",
    "\n",
    "An instance of VehicleRentalSystem called rental_system is created.\n",
    "The available vehicles are displayed initially.\n",
    "A \"Car\" is rented, so it is removed from the available vehicles and the updated list is displayed.\n",
    "The \"Car\" is returned, so it is added back to the available vehicles, and the updated list is displayed again.\n",
    "In summary, this code simulates a basic vehicle rental system where customers can rent and return vehicles, and the system keeps track of the available vehicles.\n",
    "\n",
    "\n",
    "\n",
    "\n",
    "\n"
   ]
  },
  {
   "cell_type": "code",
   "execution_count": 5,
   "id": "4f400812-7ef9-41d1-86d0-13b00e970bf1",
   "metadata": {},
   "outputs": [
    {
     "name": "stdout",
     "output_type": "stream",
     "text": [
      "Added 'Harry Potter' by J.K. Rowling to the library.\n",
      "Added 'Lord of the Rings' by J.R.R. Tolkien to the library.\n",
      "Available Books:\n",
      "'Harry Potter' by J.K. Rowling\n",
      "'Lord of the Rings' by J.R.R. Tolkien\n",
      "Borrowed 'Harry Potter'\n",
      "Available Books:\n",
      "'Lord of the Rings' by J.R.R. Tolkien\n"
     ]
    }
   ],
   "source": [
    "# Problem 4: Library Catalog Create classes representing a library and a book. Implement methods to add books to the library, borrow books, and display available books.\n",
    "\n",
    "class Book:\n",
    "    def __init__(self, title, author):\n",
    "        self.title = title\n",
    "        self.author = author\n",
    "\n",
    "class Library:\n",
    "    def __init__(self):\n",
    "        self.available_books = []\n",
    "\n",
    "    def add_book(self, book):\n",
    "        \"\"\"Add a book to the library.\"\"\"\n",
    "        self.available_books.append(book)\n",
    "        print(f\"Added '{book.title}' by {book.author} to the library.\")\n",
    "\n",
    "    def borrow_book(self, book):\n",
    "        \"\"\"Borrow a book if available.\"\"\"\n",
    "        if book in self.available_books:\n",
    "            self.available_books.remove(book)\n",
    "            print(f\"Borrowed '{book.title}'\")\n",
    "        else:\n",
    "            print(f\"Sorry, '{book.title}' is not available.\")\n",
    "\n",
    "    def display_available_books(self):\n",
    "        \"\"\"Display available books.\"\"\"\n",
    "        print(\"Available Books:\")\n",
    "        for book in self.available_books:\n",
    "            print(f\"'{book.title}' by {book.author}\")\n",
    "\n",
    "# Example usage\n",
    "library = Library()\n",
    "book1 = Book(\"Harry Potter\", \"J.K. Rowling\")\n",
    "book2 = Book(\"Lord of the Rings\", \"J.R.R. Tolkien\")\n",
    "library.add_book(book1)\n",
    "library.add_book(book2)\n",
    "library.display_available_books()\n",
    "library.borrow_book(book1)\n",
    "library.display_available_books()\n"
   ]
  },
  {
   "cell_type": "markdown",
   "id": "ba7eabda-4665-4ace-8112-32c3a6889d72",
   "metadata": {},
   "source": [
    "Explanation:-\n",
    "\n",
    "code creates a simple library catalog system with two classes: Book and Library.\n",
    "\n",
    "Book Class:\n",
    "\n",
    "Represents a book with attributes title and author.\n",
    "Library Class:\n",
    "\n",
    "Has a list called available_books to store books.\n",
    "add_book(book): Adds a book to the library and prints a confirmation message.\n",
    "borrow_book(book): Allows borrowing a book if available, removing it from the library, or displays a message if the book is not available.\n",
    "display_available_books(): Displays the titles and authors of available books.\n",
    "Example Usage:\n",
    "\n",
    "A Library object is created.\n",
    "Two Book objects, book1 (\"Harry Potter\" by J.K. Rowling) and book2 (\"Lord of the Rings\" by J.R.R. Tolkien), are added to the library.\n",
    "Available books are displayed.\n",
    "book1 is borrowed and removed from the available books.\n",
    "Updated list of available books is displayed.\n",
    "In summary, this code allows adding books to the library, borrowing books, and displaying the available books in the library catalog.\n",
    "\n",
    "\n",
    "\n",
    "\n",
    "\n"
   ]
  },
  {
   "cell_type": "code",
   "execution_count": 6,
   "id": "cb290b40-e8dc-4c55-905b-a0f0a18f44a8",
   "metadata": {},
   "outputs": [
    {
     "name": "stdout",
     "output_type": "stream",
     "text": [
      "Added 'Laptop' to the inventory.\n",
      "Added 'Mouse' to the inventory.\n",
      "Available Products:\n",
      "'Laptop' - $800 - Quantity: 10\n",
      "'Mouse' - $20 - Quantity: 50\n",
      "Updated quantity of 'Laptop' to 5.\n",
      "Available Products:\n",
      "'Laptop' - $800 - Quantity: 5\n",
      "'Mouse' - $20 - Quantity: 50\n"
     ]
    }
   ],
   "source": [
    "# Problem 5: Product Inventory Create classes representing a product and an inventory system. Implement methods to add products to the inventory, update product quantity, and display available products.\n",
    "\n",
    "class Product:\n",
    "    def __init__(self, name, price, quantity):\n",
    "        self.name = name\n",
    "        self.price = price\n",
    "        self.quantity = quantity\n",
    "\n",
    "class Inventory:\n",
    "    def __init__(self):\n",
    "        self.products = []\n",
    "\n",
    "    def add_product(self, product):\n",
    "        \"\"\"Add a product to the inventory.\"\"\"\n",
    "        self.products.append(product)\n",
    "        print(f\"Added '{product.name}' to the inventory.\")\n",
    "\n",
    "    def update_quantity(self, product_name, new_quantity):\n",
    "        \"\"\"Update product quantity.\"\"\"\n",
    "        for product in self.products:\n",
    "            if product.name == product_name:\n",
    "                product.quantity = new_quantity\n",
    "                print(f\"Updated quantity of '{product.name}' to {product.quantity}.\")\n",
    "                break\n",
    "\n",
    "    def display_available_products(self):\n",
    "        \"\"\"Display available products.\"\"\"\n",
    "        print(\"Available Products:\")\n",
    "        for product in self.products:\n",
    "            print(f\"'{product.name}' - ${product.price} - Quantity: {product.quantity}\")\n",
    "\n",
    "# Example usage\n",
    "inventory = Inventory()\n",
    "product1 = Product(\"Laptop\", 800, 10)\n",
    "product2 = Product(\"Mouse\", 20, 50)\n",
    "inventory.add_product(product1)\n",
    "inventory.add_product(product2)\n",
    "inventory.display_available_products()\n",
    "inventory.update_quantity(\"Laptop\", 5)\n",
    "inventory.display_available_products()\n"
   ]
  },
  {
   "cell_type": "markdown",
   "id": "941d3365-9c1c-4d8c-bc46-5e520fba0286",
   "metadata": {},
   "source": [
    "Explanation-\n",
    "\n",
    "This program uses two classes: Product and Inventory to manage a product inventory.\n",
    "\n",
    "Product Class:\n",
    "\n",
    "Represents products with attributes: Name, Price, Quantity.\n",
    "Inventory Class:\n",
    "\n",
    "Manages a list of products.\n",
    "Methods: add_product(product), update_quantity(product_name, new_quantity), display_products().\n",
    "Example Usage:\n",
    "\n",
    "Initialize inventory: inventory = Inventory()\n",
    "Add products: laptop = Product(\"Laptop\", 800, 10), mouse = Product(\"Mouse\", 20, 50), inventory.add_product(laptop), inventory.add_product(mouse)\n",
    "Display products: inventory.display_products()\n",
    "Output: Laptop - Price: $800 - Quantity: 10, Mouse - Price: $20 - Quantity: 50\n",
    "Update quantity: inventory.update_quantity(\"Laptop\", 5)\n",
    "Display updated products: inventory.display_products()\n",
    "Output after update: Laptop - Price: $800 - Quantity: 5, Mouse - Price: $20 - Quantity: 50\n",
    "\n",
    "\n",
    "\n"
   ]
  },
  {
   "cell_type": "code",
   "execution_count": 7,
   "id": "4933b7ed-3c47-4a42-a40a-1ddd456137d6",
   "metadata": {},
   "outputs": [
    {
     "name": "stdout",
     "output_type": "stream",
     "text": [
      "Rectangle Area: 50\n",
      "Rectangle Perimeter: 30\n",
      "Square Area: 16\n",
      "Square Perimeter: 16\n"
     ]
    }
   ],
   "source": [
    "# Problem 6: Shape Calculation Create a class representing a shape with attributes like length, width, and height. Implement methods to calculate the area and perimeter of the shape.\n",
    "\n",
    "class Shape:\n",
    "    def __init__(self, length, width, height=None):\n",
    "        self.length = length\n",
    "        self.width = width\n",
    "        self.height = height\n",
    "\n",
    "    def calculate_area(self):\n",
    "        \"\"\"Calculate the area of the shape.\"\"\"\n",
    "        return self.length * self.width\n",
    "\n",
    "    def calculate_perimeter(self):\n",
    "        \"\"\"Calculate the perimeter of the shape.\"\"\"\n",
    "        return 2 * (self.length + self.width)\n",
    "\n",
    "# Example usage\n",
    "rectangle = Shape(5, 10)\n",
    "print(\"Rectangle Area:\", rectangle.calculate_area())\n",
    "print(\"Rectangle Perimeter:\", rectangle.calculate_perimeter())\n",
    "\n",
    "square = Shape(4, 4)\n",
    "print(\"Square Area:\", square.calculate_area())\n",
    "print(\"Square Perimeter:\", square.calculate_perimeter())\n"
   ]
  },
  {
   "cell_type": "markdown",
   "id": "ee4d64eb-d02f-435d-99c3-ba66a35ff772",
   "metadata": {},
   "source": [
    "Explanation:-\n",
    "\n",
    "This Python program defines a class called Shape that represents a geometric shape. The class has attributes length and width (and optionally height) to define the dimensions of the shape. Two methods are implemented:\n",
    "\n",
    "calculate_area(self): This method calculates the area of the shape by multiplying its length and width. For rectangles and squares, this is the product of their sides.\n",
    "\n",
    "calculate_perimeter(self): This method calculates the perimeter of the shape, which is the total length of its sides. For rectangles and squares, the perimeter is twice the sum of their length and width.\n",
    "\n",
    "The program demonstrates the usage of the Shape class by creating instances of rectangles and squares, calculating their areas and perimeters, and printing the results. The example output will display the area and perimeter of the given rectangles and squares.\n",
    "\n",
    "\n",
    "\n",
    "\n"
   ]
  },
  {
   "cell_type": "code",
   "execution_count": 8,
   "id": "3435a5cb-2d16-49f4-a691-6cf35ad13fb4",
   "metadata": {},
   "outputs": [
    {
     "name": "stdout",
     "output_type": "stream",
     "text": [
      "Student ID: 1\n",
      "Name: Alice\n",
      "Grades: [85, 90, 78, 92]\n",
      "Average Grade: 86.25\n"
     ]
    }
   ],
   "source": [
    "# Problem 7: Student Management Create a class representing a student with attributes like student ID, name, and grades. Implement methods to calculate the average grade and display student details.\n",
    "\n",
    "class Student:\n",
    "    def __init__(self, student_id, name, grades):\n",
    "        self.student_id = student_id\n",
    "        self.name = name\n",
    "        self.grades = grades\n",
    "\n",
    "    def calculate_average_grade(self):\n",
    "        \"\"\"Calculate average grade.\"\"\"\n",
    "        return sum(self.grades) / len(self.grades)\n",
    "\n",
    "    def display_details(self):\n",
    "        \"\"\"Display student details.\"\"\"\n",
    "        print(f\"Student ID: {self.student_id}\")\n",
    "        print(f\"Name: {self.name}\")\n",
    "        print(f\"Grades: {self.grades}\")\n",
    "        print(f\"Average Grade: {self.calculate_average_grade()}\")\n",
    "\n",
    "# Example usage\n",
    "student = Student(1, \"Alice\", [85, 90, 78, 92])\n",
    "student.display_details()\n"
   ]
  },
  {
   "cell_type": "markdown",
   "id": "5ad49df4-0a1c-4870-a622-e7241b486c33",
   "metadata": {},
   "source": [
    "Explanation:-\n",
    "\n",
    "This Python program defines a class called Student that represents a student. Each student has attributes including a student ID, name, and a list of grades. The class provides two methods:\n",
    "\n",
    "calculate_average_grade(self): This method calculates the average grade of the student by summing up all the grades and dividing the total by the number of grades.\n",
    "\n",
    "display_details(self): This method displays the student's details including the student ID, name, grades, and their average grade. It calls the calculate_average_grade method internally to compute the average grade before displaying the details.\n",
    "\n",
    "In the example usage, a Student object is created with ID 1, the name \"Alice,\" and a list of grades [85, 90, 78, 92]. The display_details method is then called, which prints out the student's information, including the average grade calculated using the calculate_average_grade method."
   ]
  },
  {
   "cell_type": "code",
   "execution_count": 9,
   "id": "233dd9c0-0a68-49b4-836f-cf9b9e0c4cbb",
   "metadata": {},
   "outputs": [
    {
     "name": "stdout",
     "output_type": "stream",
     "text": [
      "Email sent from sender@example.com to recipient@example.com\n",
      "Subject: Hello!\n"
     ]
    }
   ],
   "source": [
    "# Problem 8: Email Management Create a class representing an email with attributes like sender, recipient, and subject. Implement methods to send an email and display email details.\n",
    "\n",
    "class Email:\n",
    "    def __init__(self, sender, recipient, subject):\n",
    "        self.sender = sender\n",
    "        self.recipient = recipient\n",
    "        self.subject = subject\n",
    "\n",
    "    def send_email(self):\n",
    "        \"\"\"Send an email.\"\"\"\n",
    "        print(f\"Email sent from {self.sender} to {self.recipient}\")\n",
    "        print(f\"Subject: {self.subject}\")\n",
    "\n",
    "# Example usage\n",
    "email = Email(\"sender@example.com\", \"recipient@example.com\", \"Hello!\")\n",
    "email.send_email()\n"
   ]
  },
  {
   "cell_type": "markdown",
   "id": "8d668cef-d426-484c-b65c-8311c6f47a62",
   "metadata": {},
   "source": [
    "Explanation:-\n",
    "\n",
    "This Python program defines a class called Email that represents an email. Each email object has attributes including sender, recipient, and subject. The class provides a method:\n",
    "\n",
    "send_email(self): This method simulates sending an email by printing out a message indicating the sender, recipient, and subject of the email.\n",
    "In the example usage, an Email object is created with a sender email address (\"sender@example.com\"), a recipient email address (\"recipient@example.com\"), and the subject \"Hello!\". The send_email method is then called, which prints out a message indicating that the email has been sent from the sender to the recipient with the specified subject."
   ]
  },
  {
   "cell_type": "code",
   "execution_count": 10,
   "id": "d7dace9a-f984-4143-bbb8-afb245f8baa2",
   "metadata": {},
   "outputs": [
    {
     "name": "stdout",
     "output_type": "stream",
     "text": [
      "New post added by user123\n",
      "New post added by user123\n",
      "Posts by user123:\n",
      "Had a great day at the beach!\n",
      "Trying out a new recipe for dinner.\n",
      "Posts containing 'beach':\n",
      "Had a great day at the beach!\n"
     ]
    }
   ],
   "source": [
    "# Problem 9: Social Media Profile Create a class representing a social media profile with attributes like username and posts. Implement methods to add posts, display posts, and search for posts by keyword.\n",
    "\n",
    "\n",
    "class SocialMediaProfile:\n",
    "    def __init__(self, username):\n",
    "        self.username = username\n",
    "        self.posts = []\n",
    "\n",
    "    def add_post(self, post_content):\n",
    "        \"\"\"Add a post to the profile.\"\"\"\n",
    "        self.posts.append(post_content)\n",
    "        print(f\"New post added by {self.username}\")\n",
    "\n",
    "    def display_posts(self):\n",
    "        \"\"\"Display posts.\"\"\"\n",
    "        print(f\"Posts by {self.username}:\")\n",
    "        for post in self.posts:\n",
    "            print(post)\n",
    "\n",
    "    def search_posts(self, keyword):\n",
    "        \"\"\"Search posts by keyword.\"\"\"\n",
    "        matching_posts = [post for post in self.posts if keyword in post]\n",
    "        print(f\"Posts containing '{keyword}':\")\n",
    "        for post in matching_posts:\n",
    "            print(post)\n",
    "\n",
    "# Example usage\n",
    "profile = SocialMediaProfile(\"user123\")\n",
    "profile.add_post(\"Had a great day at the beach!\")\n",
    "profile.add_post(\"Trying out a new recipe for dinner.\")\n",
    "profile.display_posts()\n",
    "profile.search_posts(\"beach\")\n"
   ]
  },
  {
   "cell_type": "markdown",
   "id": "ef61b2fe-b832-4243-912d-2d74e4b02ef5",
   "metadata": {},
   "source": [
    "Explanation:-\n",
    "\n",
    "This Python program defines a class called SocialMediaProfile that represents a social media profile. Each profile object has attributes including a username and a list of posts. The class provides three methods:\n",
    "\n",
    "add_post(self, post_content): This method allows a user to add a new post to their profile. The content of the post is passed as a parameter, and it is appended to the list of posts associated with the profile. After adding the post, it prints a message indicating that a new post has been added by the profile's username.\n",
    "\n",
    "display_posts(self): This method displays all the posts associated with the profile. It prints the username of the profile and then iterates through the list of posts, printing each post.\n",
    "\n",
    "search_posts(self, keyword): This method allows the user to search for posts containing a specific keyword. It takes a keyword as a parameter and searches through the list of posts. If a post contains the specified keyword, it is added to the matching_posts list. After finding all the matching posts, it prints a message indicating the keyword being searched for and then prints each matching post.\n",
    "\n",
    "In the example usage, a SocialMediaProfile object is created with the username \"user123\". Two posts are added to the profile using the add_post method. Then, the display_posts method is called to print all the posts associated with the profile. Finally, the search_posts method is used to search for posts containing the keyword \"beach\", and the matching posts are displayed.\n",
    "\n",
    "This example demonstrates the basic functionality of a social media profile, including adding posts, displaying all posts, and searching for posts based on a keyword.\n",
    "\n",
    "\n",
    "\n",
    "\n",
    "\n"
   ]
  },
  {
   "cell_type": "code",
   "execution_count": 11,
   "id": "fc95c312-6a18-4622-b82d-b1d62d8187f5",
   "metadata": {},
   "outputs": [
    {
     "name": "stdout",
     "output_type": "stream",
     "text": [
      "Task 'Finish report' added. Due Date: 2023-10-20\n",
      "Task 'Buy groceries' added. Due Date: 2023-10-22\n",
      "Task 'Finish report' marked as completed.\n",
      "Pending Tasks:\n",
      "Task: Buy groceries - Due Date: 2023-10-22\n"
     ]
    }
   ],
   "source": [
    "# Problem 10: ToDo List Create a class representing a ToDo list with attributes like tasks and due dates. Implement methods to add tasks, mark tasks as completed, and display pending tasks.   give each code in python and also provider proper explanation for each each code like in a humun language and use comments inside the code\n",
    "\n",
    "\n",
    "class ToDoList:\n",
    "    def __init__(self):\n",
    "        self.tasks = []\n",
    "\n",
    "    def add_task(self, task, due_date):\n",
    "        \"\"\"Add a task to the ToDo list.\"\"\"\n",
    "        self.tasks.append({\"task\": task, \"due_date\": due_date, \"completed\": False})\n",
    "        print(f\"Task '{task}' added. Due Date: {due_date}\")\n",
    "\n",
    "    def mark_as_completed(self, task):\n",
    "        \"\"\"Mark a task as completed.\"\"\"\n",
    "        for t in self.tasks:\n",
    "            if t[\"task\"] == task:\n",
    "                t[\"completed\"] = True\n",
    "                print(f\"Task '{task}' marked as completed.\")\n",
    "                break\n",
    "\n",
    "    def display_pending_tasks(self):\n",
    "        \"\"\"Display pending tasks.\"\"\"\n",
    "        print(\"Pending Tasks:\")\n",
    "        for task in self.tasks:\n",
    "            if not task[\"completed\"]:\n",
    "                print(f\"Task: {task['task']} - Due Date: {task['due_date']}\")\n",
    "\n",
    "# Example usage\n",
    "todo_list = ToDoList()\n",
    "todo_list.add_task(\"Finish report\", \"2023-10-20\")\n",
    "todo_list.add_task(\"Buy groceries\", \"2023-10-22\")\n",
    "todo_list.mark_as_completed(\"Finish report\")\n",
    "todo_list.display_pending_tasks()\n"
   ]
  },
  {
   "cell_type": "markdown",
   "id": "85ada0ed-54c1-4c60-aa7e-2a18870e1eb3",
   "metadata": {},
   "source": [
    "Explanation:-\n",
    "\n",
    "This Python program defines a class ToDoList that represents a to-do list. The class has three main methods: add_task(), mark_as_completed(), and display_pending_tasks(), along with an __init__ method for initializing the task list.\n",
    "\n",
    "__init__(self) method:\n",
    "\n",
    "This method initializes an empty list tasks when a new ToDoList object is created.\n",
    "add_task(self, task, due_date) method:\n",
    "\n",
    "This method allows you to add a new task to the ToDo list.\n",
    "It takes two parameters: task (the description of the task) and due_date (the deadline for the task).\n",
    "The method creates a dictionary containing the task, due date, and a flag completed set to False indicating the task is not yet completed.\n",
    "The dictionary is then appended to the tasks list.\n",
    "The method prints a confirmation message with the task details.\n",
    "mark_as_completed(self, task) method:\n",
    "\n",
    "This method allows you to mark a task as completed.\n",
    "It takes the task parameter (the description of the task) that you want to mark as completed.\n",
    "The method iterates through the tasks in the tasks list. If it finds a task matching the input task, it sets the completed flag to True indicating the task is completed.\n",
    "It prints a message confirming that the task has been marked as completed.\n",
    "display_pending_tasks(self) method:\n",
    "\n",
    "This method displays all pending tasks, i.e., tasks that are not yet completed.\n",
    "It iterates through the tasks list and prints the tasks that have the completed flag set to False.\n",
    "If a task is not completed, it prints the task description and due date.\n",
    "Example Usage:\n",
    "\n",
    "The program demonstrates the usage of the ToDoList class.\n",
    "It creates a todo_list object and adds two tasks: \"Finish report\" with a due date of \"2023-10-20\" and \"Buy groceries\" with a due date of \"2023-10-22\".\n",
    "It then marks the task \"Finish report\" as completed.\n",
    "Finally, it displays the pending tasks, which in this case is only the task \"Buy groceries\".\n",
    "In summary, this program provides a simple implementation of a to-do list where tasks can be added, marked as completed, and displayed. The class encapsulates the behavior of a to-do list, making it easy to manage tasks in a structured way.\n",
    "\n",
    "\n",
    "\n",
    "\n"
   ]
  }
 ],
 "metadata": {
  "kernelspec": {
   "display_name": "Python 3 (ipykernel)",
   "language": "python",
   "name": "python3"
  },
  "language_info": {
   "codemirror_mode": {
    "name": "ipython",
    "version": 3
   },
   "file_extension": ".py",
   "mimetype": "text/x-python",
   "name": "python",
   "nbconvert_exporter": "python",
   "pygments_lexer": "ipython3",
   "version": "3.10.8"
  }
 },
 "nbformat": 4,
 "nbformat_minor": 5
}
